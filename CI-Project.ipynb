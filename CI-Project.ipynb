{
 "cells": [
  {
   "cell_type": "code",
   "execution_count": 1,
   "metadata": {},
   "outputs": [],
   "source": [
    "import pandas as pd\n",
    "import numpy as np\n",
    "from sklearn.feature_extraction.text import TfidfVectorizer\n",
    "from sklearn.feature_selection import chi2\n",
    "from sklearn.model_selection import train_test_split\n",
    "from sklearn import svm\n",
    "from sklearn import metrics\n",
    "from nltk.tokenize import word_tokenize"
   ]
  },
  {
   "cell_type": "code",
   "execution_count": 2,
   "metadata": {},
   "outputs": [
    {
     "data": {
      "text/plain": [
       "(150096, 3)"
      ]
     },
     "execution_count": 2,
     "metadata": {},
     "output_type": "execute_result"
    }
   ],
   "source": [
    "df = pd.read_csv('D:/train.csv')\n",
    "df.shape"
   ]
  },
  {
   "cell_type": "code",
   "execution_count": 3,
   "metadata": {},
   "outputs": [
    {
     "data": {
      "text/html": [
       "<div>\n",
       "<style scoped>\n",
       "    .dataframe tbody tr th:only-of-type {\n",
       "        vertical-align: middle;\n",
       "    }\n",
       "\n",
       "    .dataframe tbody tr th {\n",
       "        vertical-align: top;\n",
       "    }\n",
       "\n",
       "    .dataframe thead th {\n",
       "        text-align: right;\n",
       "    }\n",
       "</style>\n",
       "<table border=\"1\" class=\"dataframe\">\n",
       "  <thead>\n",
       "    <tr style=\"text-align: right;\">\n",
       "      <th></th>\n",
       "      <th>0</th>\n",
       "      <th>1</th>\n",
       "      <th>2</th>\n",
       "      <th>3</th>\n",
       "      <th>4</th>\n",
       "    </tr>\n",
       "  </thead>\n",
       "  <tbody>\n",
       "    <tr>\n",
       "      <th>number</th>\n",
       "      <td>0</td>\n",
       "      <td>1</td>\n",
       "      <td>2</td>\n",
       "      <td>3</td>\n",
       "      <td>4</td>\n",
       "    </tr>\n",
       "    <tr>\n",
       "      <th>Text</th>\n",
       "      <td>\\nخبرنامه دانشگاه علم و صنعت ايران \\nشماره ياز...</td>\n",
       "      <td>\\nتا پايان سال 1378 دهها زمين فوتبال و \\nسالن ...</td>\n",
       "      <td>\\nانجمن توليدكنندگان تجهيزات صنعت نفت تشكيل شد...</td>\n",
       "      <td>\\nكرتين براي سومين بار نخست وزير كانادا \\nشد \\...</td>\n",
       "      <td>\\nخداحافظ رفقا \\nنمايندگان اروپاي شرقي در جام ...</td>\n",
       "    </tr>\n",
       "    <tr>\n",
       "      <th>Category</th>\n",
       "      <td>Science and Culture</td>\n",
       "      <td>Sport</td>\n",
       "      <td>Economy</td>\n",
       "      <td>Miscellaneous.World News</td>\n",
       "      <td>Sport</td>\n",
       "    </tr>\n",
       "  </tbody>\n",
       "</table>\n",
       "</div>"
      ],
      "text/plain": [
       "                                                          0  \\\n",
       "number                                                    0   \n",
       "Text      \\nخبرنامه دانشگاه علم و صنعت ايران \\nشماره ياز...   \n",
       "Category                                Science and Culture   \n",
       "\n",
       "                                                          1  \\\n",
       "number                                                    1   \n",
       "Text      \\nتا پايان سال 1378 دهها زمين فوتبال و \\nسالن ...   \n",
       "Category                                              Sport   \n",
       "\n",
       "                                                          2  \\\n",
       "number                                                    2   \n",
       "Text      \\nانجمن توليدكنندگان تجهيزات صنعت نفت تشكيل شد...   \n",
       "Category                                            Economy   \n",
       "\n",
       "                                                          3  \\\n",
       "number                                                    3   \n",
       "Text      \\nكرتين براي سومين بار نخست وزير كانادا \\nشد \\...   \n",
       "Category                           Miscellaneous.World News   \n",
       "\n",
       "                                                          4  \n",
       "number                                                    4  \n",
       "Text      \\nخداحافظ رفقا \\nنمايندگان اروپاي شرقي در جام ...  \n",
       "Category                                              Sport  "
      ]
     },
     "execution_count": 3,
     "metadata": {},
     "output_type": "execute_result"
    }
   ],
   "source": [
    "df.head().T"
   ]
  },
  {
   "cell_type": "code",
   "execution_count": 4,
   "metadata": {},
   "outputs": [
    {
     "data": {
      "text/plain": [
       "array([['Science and Culture'],\n",
       "       ['Sport'],\n",
       "       ['Economy'],\n",
       "       ['Miscellaneous.World News'],\n",
       "       ['Miscellaneous.Urban'],\n",
       "       ['Social.Women'],\n",
       "       ['Social'],\n",
       "       ['Literature and Art'],\n",
       "       ['Politics'],\n",
       "       ['Miscellaneous'],\n",
       "       ['Economy.Bank and Bourse'],\n",
       "       ['Politics.Iran Politics'],\n",
       "       ['Tourism'],\n",
       "       ['Social.Religion'],\n",
       "       ['Miscellaneous.Picture'],\n",
       "       ['Miscellaneous.Happenings'],\n",
       "       ['Science and Culture.Science.Book'],\n",
       "       ['Literature and Art.Art'],\n",
       "       ['Miscellaneous.Islamic Councils'],\n",
       "       ['Literature and Art.Art.Cinema'],\n",
       "       ['Science and Culture.Science.Information and Communication Technology'],\n",
       "       ['Economy.Oil'],\n",
       "       ['Economy.Commerce'],\n",
       "       ['Natural Environment'],\n",
       "       ['Science and Culture.Science'],\n",
       "       ['Economy.Industry'],\n",
       "       ['Economy.Agriculture'],\n",
       "       ['Sport.World Cup'],\n",
       "       ['Miscellaneous.Picture.Caricature'],\n",
       "       ['Literature and Art.Art.Music'],\n",
       "       ['Literature and Art.Art.Theater'],\n",
       "       ['Economy.Dwelling and Construction'],\n",
       "       ['Science and Culture.Science.Medicine and Remedy'],\n",
       "       ['Literature and Art.Literature']], dtype=object)"
      ]
     },
     "execution_count": 4,
     "metadata": {},
     "output_type": "execute_result"
    }
   ],
   "source": [
    "pd.DataFrame(df.Category.unique()).values"
   ]
  },
  {
   "cell_type": "code",
   "execution_count": 5,
   "metadata": {},
   "outputs": [
    {
     "data": {
      "text/plain": [
       "(34, 1)"
      ]
     },
     "execution_count": 5,
     "metadata": {},
     "output_type": "execute_result"
    }
   ],
   "source": [
    "pd.DataFrame(df.Category.unique()).shape"
   ]
  },
  {
   "cell_type": "code",
   "execution_count": 6,
   "metadata": {
    "scrolled": true
   },
   "outputs": [
    {
     "data": {
      "text/html": [
       "<div>\n",
       "<style scoped>\n",
       "    .dataframe tbody tr th:only-of-type {\n",
       "        vertical-align: middle;\n",
       "    }\n",
       "\n",
       "    .dataframe tbody tr th {\n",
       "        vertical-align: top;\n",
       "    }\n",
       "\n",
       "    .dataframe thead th {\n",
       "        text-align: right;\n",
       "    }\n",
       "</style>\n",
       "<table border=\"1\" class=\"dataframe\">\n",
       "  <thead>\n",
       "    <tr style=\"text-align: right;\">\n",
       "      <th></th>\n",
       "      <th>number</th>\n",
       "      <th>Text</th>\n",
       "      <th>Category</th>\n",
       "      <th>category_id</th>\n",
       "    </tr>\n",
       "  </thead>\n",
       "  <tbody>\n",
       "    <tr>\n",
       "      <th>0</th>\n",
       "      <td>0</td>\n",
       "      <td>\\nخبرنامه دانشگاه علم و صنعت ايران \\nشماره ياز...</td>\n",
       "      <td>Science and Culture</td>\n",
       "      <td>0</td>\n",
       "    </tr>\n",
       "    <tr>\n",
       "      <th>1</th>\n",
       "      <td>1</td>\n",
       "      <td>\\nتا پايان سال 1378 دهها زمين فوتبال و \\nسالن ...</td>\n",
       "      <td>Sport</td>\n",
       "      <td>1</td>\n",
       "    </tr>\n",
       "    <tr>\n",
       "      <th>2</th>\n",
       "      <td>2</td>\n",
       "      <td>\\nانجمن توليدكنندگان تجهيزات صنعت نفت تشكيل شد...</td>\n",
       "      <td>Economy</td>\n",
       "      <td>2</td>\n",
       "    </tr>\n",
       "    <tr>\n",
       "      <th>3</th>\n",
       "      <td>3</td>\n",
       "      <td>\\nكرتين براي سومين بار نخست وزير كانادا \\nشد \\...</td>\n",
       "      <td>Miscellaneous.World News</td>\n",
       "      <td>3</td>\n",
       "    </tr>\n",
       "    <tr>\n",
       "      <th>4</th>\n",
       "      <td>4</td>\n",
       "      <td>\\nخداحافظ رفقا \\nنمايندگان اروپاي شرقي در جام ...</td>\n",
       "      <td>Sport</td>\n",
       "      <td>1</td>\n",
       "    </tr>\n",
       "  </tbody>\n",
       "</table>\n",
       "</div>"
      ],
      "text/plain": [
       "   number                                               Text  \\\n",
       "0       0  \\nخبرنامه دانشگاه علم و صنعت ايران \\nشماره ياز...   \n",
       "1       1  \\nتا پايان سال 1378 دهها زمين فوتبال و \\nسالن ...   \n",
       "2       2  \\nانجمن توليدكنندگان تجهيزات صنعت نفت تشكيل شد...   \n",
       "3       3  \\nكرتين براي سومين بار نخست وزير كانادا \\nشد \\...   \n",
       "4       4  \\nخداحافظ رفقا \\nنمايندگان اروپاي شرقي در جام ...   \n",
       "\n",
       "                   Category  category_id  \n",
       "0       Science and Culture            0  \n",
       "1                     Sport            1  \n",
       "2                   Economy            2  \n",
       "3  Miscellaneous.World News            3  \n",
       "4                     Sport            1  "
      ]
     },
     "execution_count": 6,
     "metadata": {},
     "output_type": "execute_result"
    }
   ],
   "source": [
    "df['category_id'] = df['Category'].factorize()[0]\n",
    "category_id_df = df[['Category', 'category_id']].drop_duplicates()\n",
    "\n",
    "category_to_id = dict(category_id_df.values)\n",
    "id_to_category = dict(category_id_df[['category_id', 'Category']].values)\n",
    "\n",
    "df.head()"
   ]
  },
  {
   "cell_type": "code",
   "execution_count": 7,
   "metadata": {},
   "outputs": [
    {
     "name": "stdout",
     "output_type": "stream",
     "text": [
      "0         خبرنامه دانشگاه علم و صنعت ايران شماره يازدهم ...\n",
      "1         تا پايان سال 1378 دهها زمين فوتبال و سالن ورزش...\n",
      "2         انجمن توليدكنندگان تجهيزات صنعت نفت تشكيل شد ن...\n",
      "3         كرتين براي سومين بار نخست وزير كانادا شد ژان ك...\n",
      "4         خداحافظ رفقا نمايندگان اروپاي شرقي در جام 2002...\n",
      "                                ...                        \n",
      "150091    مشكل بزرگ سدسازي وزير نيرو   در كشور كمبود اعت...\n",
      "150092    خودسوزي يك هوادار پ ك ك در شهر دياربكر تركيه آ...\n",
      "150093    از نيمه دوم سال جاري در 600 دستگاه اتوبوس كارت...\n",
      "150094    در كتابخانه مركز دانشگاه تهران و دانشكده هنرها...\n",
      "150095    پيام رئيس جمهوري به سران كشورهاي عضو سازمان اس...\n",
      "Name: Text, Length: 150096, dtype: object\n"
     ]
    }
   ],
   "source": [
    "df['Text'].dropna(inplace=True)\n",
    "df['Text']= [word_tokenize(entry) for entry in df['Text']]\n",
    "df['Text'] = df[\"Text\"].map(' '.join)\n",
    "df['Text'] = [(t.replace('\\n',' ')\n",
    "            .replace('  ',' ')\n",
    "            .replace(':',' ')\n",
    "            .strip()) for t in df['Text']]\n",
    "\n",
    "print(df['Text'])"
   ]
  },
  {
   "cell_type": "code",
   "execution_count": 8,
   "metadata": {},
   "outputs": [],
   "source": [
    "from __future__ import unicode_literals\n",
    "from hazm import *\n",
    "\n",
    "normalizer = Normalizer()\n",
    "df['Text'] = df['Text'].map(lambda x: normalizer.normalize(x))\n",
    "\n",
    "stemmer = Stemmer()\n",
    "df['Text'] = df['Text'].map(lambda x: stemmer.stem(x))\n",
    "\n",
    "lemmatizer = Lemmatizer()\n",
    "df['Text'] = df['Text'].map(lambda x: lemmatizer.lemmatize(x))"
   ]
  },
  {
   "cell_type": "code",
   "execution_count": 9,
   "metadata": {},
   "outputs": [
    {
     "name": "stdout",
     "output_type": "stream",
     "text": [
      "0         خبرنامه دانشگاه علم و صنعت ایران شماره یازدهم ...\n",
      "1         تا پایان سال ۱۳۷۸ دهها زمین فوتبال و سالن ورزش...\n",
      "2         انجمن تولیدکنندگان تجهیزات صنعت نفت تشکیل شد ن...\n",
      "3         کرتین برای سومین بار نخست وزیر کانادا شد ژان ک...\n",
      "4         خداحافظ رفقا نمایندگان اروپای شرقی در جام ۲۰۰۲...\n",
      "                                ...                        \n",
      "150091    مشکل بزرگ سدسازی وزیر نیرو در کشور کمبود اعتبا...\n",
      "150092    خودسوزی یک هوادار پ ک ک در شهر دیاربکر ترکیه آ...\n",
      "150093    از نیمه دوم سال جاری در ۶۰۰ دستگاه اتوبوس کارت...\n",
      "150094    در کتابخانه مرکز دانشگاه تهران و دانشکده هنرها...\n",
      "150095    پیام رئیس جمهوری به سران کشورهای عضو سازمان اس...\n",
      "Name: Text, Length: 150096, dtype: object\n"
     ]
    }
   ],
   "source": [
    "print(df.Text)"
   ]
  },
  {
   "cell_type": "code",
   "execution_count": 10,
   "metadata": {},
   "outputs": [],
   "source": [
    "tfidf = TfidfVectorizer(max_features=5000)\n",
    "features = tfidf.fit_transform(df.Text).toarray()\n",
    "labels = df.category_id"
   ]
  },
  {
   "cell_type": "code",
   "execution_count": 11,
   "metadata": {},
   "outputs": [
    {
     "name": "stdout",
     "output_type": "stream",
     "text": [
      "\n",
      "Economy:\n",
      "Most occurred words: پارس, اقتصادی, گذاری, سرمایه, قیمت\n",
      "\n",
      "Economy.Agriculture:\n",
      "Most occurred words: هکتار, گندم, آبیاری, کشاورزان, کشاورزی\n",
      "\n",
      "Economy.Bank and Bourse:\n",
      "Most occurred words: بهادار, اوراق, بانک, سهام, بورس\n",
      "\n",
      "Economy.Commerce:\n",
      "Most occurred words: واردات, صادرات, گمرکی, کالا, گمرک\n",
      "\n",
      "Economy.Dwelling and Construction:\n",
      "Most occurred words: پروانه, تراکم, مقاوم, ساختمان, مسکن\n",
      "\n",
      "Economy.Industry:\n",
      "Most occurred words: تولید, صنایع, صنعت, خودرو, خودروسازی\n",
      "\n",
      "Economy.Oil:\n",
      "Most occurred words: نفتی, انرژی, بشکه, گاز, نفت\n",
      "\n",
      "Literature and Art:\n",
      "Most occurred words: نمایش, سینمای, موسیقی, جشنواره, فیلم\n",
      "\n",
      "Literature and Art.Art:\n",
      "Most occurred words: فیلمی, او, فیلمنامه, آدم, فیلم\n",
      "\n",
      "Literature and Art.Art.Cinema:\n",
      "Most occurred words: فیلمی, سینما, فیلمنامه, سینمای, فیلم\n",
      "\n",
      "Literature and Art.Art.Music:\n",
      "Most occurred words: کنسرت, استاد, پاپ, ارکستر, موسیقی\n",
      "\n",
      "Literature and Art.Art.Theater:\n",
      "Most occurred words: قصه, متن, نمایش, نمایشنامه, تئاتر\n",
      "\n",
      "Literature and Art.Literature:\n",
      "Most occurred words: کتاب, سنت, گنبد, سعدی, رمان\n",
      "\n",
      "Miscellaneous:\n",
      "Most occurred words: مندان, خیابان, فرهنگسرای, اذان, شناسنامه\n",
      "\n",
      "Miscellaneous.Happenings:\n",
      "Most occurred words: مجروح, سرقت, آتش, ماموران, حادثه\n",
      "\n",
      "Miscellaneous.Islamic Councils:\n",
      "Most occurred words: شورای, شهر, شورا, شوراهای, شوراها\n",
      "\n",
      "Miscellaneous.Picture:\n",
      "Most occurred words: احمد, پور, مسعود, روز, عکس\n",
      "\n",
      "Miscellaneous.Picture.Caricature:\n",
      "Most occurred words: نیک, کوثر, آهنگ, کاظم, نگاه\n",
      "\n",
      "Miscellaneous.Urban:\n",
      "Most occurred words: زیست, شهردار, تهران, شهرداری, شهری\n",
      "\n",
      "Miscellaneous.World News:\n",
      "Most occurred words: عراق, طالبان, خبرگزاری, آمریکا, اسرائیل\n",
      "\n",
      "Natural Environment:\n",
      "Most occurred words: تالاب, محیط, محیطزیست, جنگل, زیست\n",
      "\n",
      "Politics:\n",
      "Most occurred words: خاتمی, جمهوری, سیاسی, اسلامی, مجلس\n",
      "\n",
      "Politics.Iran Politics:\n",
      "Most occurred words: تفحص, دیپلمات, نبوی, محافظه, طلبان\n",
      "\n",
      "Science and Culture:\n",
      "Most occurred words: پرورش, آموزش, فرهنگی, کتاب, علمی\n",
      "\n",
      "Science and Culture.Science:\n",
      "Most occurred words: مدل, جانوران, کمپانی, سلول, ژن\n",
      "\n",
      "Science and Culture.Science.Book:\n",
      "Most occurred words: پرداخته, مقاله, فلسفی, کتاب, فلسفه\n",
      "\n",
      "Science and Culture.Science.Information and Communication Technology:\n",
      "Most occurred words: سایت, نرم, افزار, اینترنت, رایانه\n",
      "\n",
      "Science and Culture.Science.Medicine and Remedy:\n",
      "Most occurred words: درمانی, بهداشت, مسوولان, درمان, پزشکی\n",
      "\n",
      "Social:\n",
      "Most occurred words: دادگاه, روزنامه, اجتماعی, نگاران, مطبوعات\n",
      "\n",
      "Social.Religion:\n",
      "Most occurred words: خدا, ابن, فلسفه, معارف, پیامبر\n",
      "\n",
      "Social.Women:\n",
      "Most occurred words: ازدواج, شوهر, مردان, زن, زنان\n",
      "\n",
      "Sport:\n",
      "Most occurred words: ورزشی, بازی, جام, فوتبال, تیم\n",
      "\n",
      "Sport.World Cup:\n",
      "Most occurred words: بازی, جام, بازیکنان, فوتبال, تیم\n",
      "\n",
      "Tourism:\n",
      "Most occurred words: هتل, ایرانگردی, گردشگران, جهانگردی, گردشگری\n"
     ]
    }
   ],
   "source": [
    "N = 5\n",
    "for Category, category_id in sorted(category_to_id.items()):\n",
    "  features_chi2 = chi2(features, labels == category_id)\n",
    "  indices = np.argsort(features_chi2[0])\n",
    "  feature_names = np.array(tfidf.get_feature_names())[indices]\n",
    "  words = [v for v in feature_names if len(v.split(' ')) == 1]\n",
    "  print(\"\\n%s:\" %(Category))\n",
    "  print(\"Most occurred words: %s\" %(', '.join(words[-N:])))"
   ]
  },
  {
   "cell_type": "code",
   "execution_count": null,
   "metadata": {},
   "outputs": [],
   "source": [
    "X_train, X_test, y_train, y_test,indices_train,indices_test = train_test_split(features, \n",
    "                                                               labels, \n",
    "                                                               df.index, test_size=0.25, \n",
    "                                                               random_state=1)\n",
    "model = svm.SVC(C=1.0, kernel='linear', degree=3, gamma='auto')\n",
    "model.fit(X_train, y_train)\n",
    "y_pred = model.predict(X_test)"
   ]
  },
  {
   "cell_type": "code",
   "execution_count": null,
   "metadata": {},
   "outputs": [],
   "source": [
    "print(metrics.classification_report(y_test, y_pred, \n",
    "                                    target_names= df['Category'].unique()))"
   ]
  },
  {
   "cell_type": "code",
   "execution_count": null,
   "metadata": {},
   "outputs": [],
   "source": [
    "test_df = pd.read_csv('D:/test.csv')\n",
    "test_df.shape"
   ]
  },
  {
   "cell_type": "code",
   "execution_count": null,
   "metadata": {},
   "outputs": [],
   "source": [
    "test_pd = pd.read_csv('D:/test.csv')\n",
    "\n",
    "test_pd['Text'].dropna(inplace=True)\n",
    "test_pd['Text']= [word_tokenize(entry) for entry in test_pd['Text']]\n",
    "test_pd['Text'] = test_pd[\"Text\"].map(' '.join)\n",
    "test_pd['Text'] = [(t.replace('\\n',' ')\n",
    "            .replace('  ',' ')\n",
    "            .replace(':',' ')\n",
    "            .strip()) for t in test_pd['Text']]\n",
    "\n",
    "\n",
    "test_pd['Text'] = test_pd['Text'].map(lambda x: normalizer.normalize(x))\n",
    "test_pd['Text'] = test_pd['Text'].map(lambda x: stemmer.stem(x))\n",
    "test_pd['Text'] = test_pd['Text'].map(lambda x: lemmatizer.lemmatize(x))"
   ]
  },
  {
   "cell_type": "code",
   "execution_count": null,
   "metadata": {},
   "outputs": [],
   "source": [
    "test_pd.head"
   ]
  },
  {
   "cell_type": "code",
   "execution_count": null,
   "metadata": {},
   "outputs": [],
   "source": [
    "tfidf_test = TfidfVectorizer(max_features=5000)\n",
    "features_test = tfidf_test.fit_transform(test_pd.Text).toarray()"
   ]
  },
  {
   "cell_type": "code",
   "execution_count": null,
   "metadata": {},
   "outputs": [],
   "source": [
    "y_pred = model.predict(features_test)"
   ]
  },
  {
   "cell_type": "code",
   "execution_count": null,
   "metadata": {},
   "outputs": [],
   "source": [
    "id_to_category"
   ]
  },
  {
   "cell_type": "code",
   "execution_count": null,
   "metadata": {},
   "outputs": [],
   "source": [
    "y_pred_final = []\n",
    "for i in y_pred:\n",
    "    y_pred_final.append(id_to_category[i])"
   ]
  },
  {
   "cell_type": "code",
   "execution_count": null,
   "metadata": {},
   "outputs": [],
   "source": [
    "out = pd.DataFrame(data=y_pred_final, columns=['Category'])\n",
    "out.to_csv('D:/test_labels.csv')"
   ]
  },
  {
   "cell_type": "code",
   "execution_count": null,
   "metadata": {},
   "outputs": [],
   "source": []
  }
 ],
 "metadata": {
  "kernelspec": {
   "display_name": "Python 3",
   "language": "python",
   "name": "python3"
  },
  "language_info": {
   "codemirror_mode": {
    "name": "ipython",
    "version": 3
   },
   "file_extension": ".py",
   "mimetype": "text/x-python",
   "name": "python",
   "nbconvert_exporter": "python",
   "pygments_lexer": "ipython3",
   "version": "3.9.1"
  }
 },
 "nbformat": 4,
 "nbformat_minor": 4
}
